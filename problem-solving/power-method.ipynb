{
 "cells": [
  {
   "cell_type": "markdown",
   "metadata": {},
   "source": [
    "## **Implementing Power Method using Numpy**"
   ]
  },
  {
   "cell_type": "code",
   "execution_count": 3,
   "metadata": {},
   "outputs": [],
   "source": [
    "import numpy as np"
   ]
  },
  {
   "cell_type": "code",
   "execution_count": null,
   "metadata": {},
   "outputs": [],
   "source": [
    "A = np.array(\n",
    "   [[5,0,0,0],\n",
    "    [0,9,0,0],\n",
    "    [0,0,0,0],\n",
    "    [0,0,0,4]]\n",
    ")"
   ]
  },
  {
   "cell_type": "code",
   "execution_count": 23,
   "metadata": {},
   "outputs": [
    {
     "name": "stdout",
     "output_type": "stream",
     "text": [
      "Iteration:  1\n",
      "eigvec >> [2.5 4.5 0.  2. ] \n",
      "eigval >> 229.5\n",
      "\n",
      "Iteration:  2\n",
      "eigvec >> [2.26339365 7.33339543 0.         1.44857194] \n",
      "eigval >> 518.0163934426229\n",
      "\n",
      "Iteration:  3\n",
      "eigvec >> [1.44898931 8.45050563 0.         0.74188252] \n",
      "eigval >> 655.3988175221716\n",
      "\n",
      "Iteration:  4\n",
      "eigvec >> [0.84186099 8.83751989 0.         0.34482626] \n",
      "eigval >> 706.9350898646859\n",
      "\n",
      "Iteration:  5\n",
      "eigvec >> [0.47379558 8.95268971 0.         0.15525334] \n",
      "eigval >> 722.5747029357734\n",
      "\n",
      "Iteration:  6\n",
      "eigvec >> [0.26420136 8.98607571 0.         0.0692588 ] \n",
      "eigval >> 727.1142088356771\n",
      "\n",
      "Iteration:  7\n",
      "eigvec >> [0.14693811 8.99584563 0.         0.03081516] \n",
      "eigval >> 728.4388993907824\n",
      "\n",
      "Iteration:  8\n",
      "eigvec >> [0.08165861 8.99874686 0.         0.01370004] \n",
      "eigval >> 728.8310970918551\n",
      "\n",
      "Iteration:  9\n",
      "eigvec >> [4.53702926e-02 8.99961904e+00 0.00000000e+00 6.08949759e-03] \n",
      "eigval >> 728.9487263032554\n",
      "\n",
      "Iteration:  10\n",
      "eigvec >> [2.52064590e-02 8.99988357e+00 0.00000000e+00 2.70652293e-03] \n",
      "eigval >> 728.9843451113272\n",
      "\n",
      "Iteration:  11\n",
      "eigvec >> [1.40037139e-02 8.99996429e+00 0.00000000e+00 1.20290987e-03] \n",
      "eigval >> 728.9952019866569\n",
      "\n",
      "Iteration:  12\n",
      "eigvec >> [7.77986245e-03 8.99998902e+00 0.00000000e+00 5.34628077e-04] \n",
      "eigval >> 728.9985258058728\n",
      "\n",
      "Iteration:  13\n",
      "eigvec >> [4.32214945e-03 8.99999662e+00 0.00000000e+00 2.37612679e-04] \n",
      "eigval >> 728.9995463210128\n",
      "\n",
      "Iteration:  14\n",
      "eigvec >> [2.40119476e-03 8.99999896e+00 0.00000000e+00 1.05605663e-04] \n",
      "eigval >> 728.9998602362832\n",
      "\n",
      "Iteration:  15\n",
      "eigvec >> [1.33399720e-03 8.99999968e+00 0.00000000e+00 4.69358538e-05] \n",
      "eigval >> 728.9999569145465\n",
      "\n",
      "Iteration:  16\n",
      "eigvec >> [7.41109573e-04 8.99999990e+00 0.00000000e+00 2.08603800e-05] \n",
      "eigval >> 728.9999867121936\n",
      "\n",
      "Iteration:  17\n",
      "eigvec >> [4.11727544e-04 8.99999997e+00 0.00000000e+00 9.27128006e-06] \n",
      "eigval >> 728.9999959008348\n",
      "\n",
      "Iteration:  18\n",
      "eigvec >> [2.28737525e-04 8.99999999e+00 0.00000000e+00 4.12056892e-06] \n",
      "eigval >> 728.9999987352226\n",
      "\n",
      "Iteration:  19\n",
      "eigvec >> [1.27076403e-04 9.00000000e+00 0.00000000e+00 1.83136397e-06] \n",
      "eigval >> 728.9999996097149\n",
      "\n",
      "Iteration:  20\n",
      "eigvec >> [7.05980015e-05 9.00000000e+00 0.00000000e+00 8.13939541e-07] \n",
      "eigval >> 728.9999998795572\n",
      "\n"
     ]
    }
   ],
   "source": [
    "v = np.ones(A.shape[0])\n",
    "v = v/np.sqrt(v.T @ v) # normalized v0 also at start\n",
    "\n",
    "eigval_v = 0\n",
    "\n",
    "iterations = 20\n",
    "\n",
    "for i in range(iterations):\n",
    "    v = (A @ v)/np.sqrt(v.T @ v)\n",
    "    eigval_v = (v.T @ A) @ v\n",
    "    print(\"Iteration: \", i+1)\n",
    "    print(\"eigvec >>\", v, \"\\neigval >>\", eigval_v) \n",
    "    print()  "
   ]
  },
  {
   "cell_type": "code",
   "execution_count": 29,
   "metadata": {},
   "outputs": [
    {
     "data": {
      "text/plain": [
       "array([[0.33333333, 0.        , 0.        ],\n",
       "       [0.        , 0.4472136 , 0.        ],\n",
       "       [0.        , 0.        , 0.5       ]])"
      ]
     },
     "execution_count": 29,
     "metadata": {},
     "output_type": "execute_result"
    }
   ],
   "source": [
    "A = np.array(\n",
    "             [[3,0,0],\n",
    "              [0,np.sqrt(5),0],\n",
    "              [0,0,2]]\n",
    ")\n",
    "np.linalg.inv(A)"
   ]
  },
  {
   "cell_type": "code",
   "execution_count": 25,
   "metadata": {},
   "outputs": [
    {
     "name": "stdout",
     "output_type": "stream",
     "text": [
      "Iteration:  1\n",
      "eigvec >> [ 2.88675135 -2.88675135  0.57735027] \n",
      "eigval >> 0.3333333333333334\n",
      "\n",
      "Iteration:  2\n",
      "eigvec >> [3.50070021 3.50070021 0.14002801] \n",
      "eigval >> 0.019607843137254905\n",
      "\n",
      "Iteration:  3\n",
      "eigvec >> [ 3.53412054 -3.53412054  0.02827296] \n",
      "eigval >> 0.0007993605115907274\n",
      "\n",
      "Iteration:  4\n",
      "eigvec >> [3.53547734 3.53547734 0.00565676] \n",
      "eigval >> 3.199897603276695e-05\n",
      "\n",
      "Iteration:  5\n",
      "eigvec >> [ 3.53553164e+00 -3.53553164e+00  1.13137013e-03] \n",
      "eigval >> 1.2799983616020976e-06\n",
      "\n",
      "Iteration:  6\n",
      "eigvec >> [3.53553382e+00 3.53553382e+00 2.26274164e-04] \n",
      "eigval >> 5.119999737856015e-08\n",
      "\n",
      "Iteration:  7\n",
      "eigvec >> [ 3.53553390e+00 -3.53553390e+00  4.52548339e-05] \n",
      "eigval >> 2.0479999958056963e-09\n",
      "\n",
      "Iteration:  8\n",
      "eigvec >> [3.53553391e+00 3.53553391e+00 9.05096680e-06] \n",
      "eigval >> 8.191999999328916e-11\n",
      "\n",
      "Iteration:  9\n",
      "eigvec >> [ 3.53553391e+00 -3.53553391e+00  1.81019336e-06] \n",
      "eigval >> 3.276799999989263e-12\n",
      "\n",
      "Iteration:  10\n",
      "eigvec >> [3.53553391e+00 3.53553391e+00 3.62038672e-07] \n",
      "eigval >> 1.310719999999828e-13\n",
      "\n",
      "Iteration:  11\n",
      "eigvec >> [ 3.53553391e+00 -3.53553391e+00  7.24077344e-08] \n",
      "eigval >> 5.242879999999971e-15\n",
      "\n",
      "Iteration:  12\n",
      "eigvec >> [3.53553391e+00 3.53553391e+00 1.44815469e-08] \n",
      "eigval >> 2.0971519999999989e-16\n",
      "\n",
      "Iteration:  13\n",
      "eigvec >> [ 3.53553391e+00 -3.53553391e+00  2.89630938e-09] \n",
      "eigval >> 8.388607999999996e-18\n",
      "\n",
      "Iteration:  14\n",
      "eigvec >> [3.53553391e+00 3.53553391e+00 5.79261875e-10] \n",
      "eigval >> 3.3554432e-19\n",
      "\n",
      "Iteration:  15\n",
      "eigvec >> [ 3.53553391e+00 -3.53553391e+00  1.15852375e-10] \n",
      "eigval >> 1.3421772799999998e-20\n",
      "\n",
      "Iteration:  16\n",
      "eigvec >> [3.53553391e+00 3.53553391e+00 2.31704750e-11] \n",
      "eigval >> 5.36870912e-22\n",
      "\n",
      "Iteration:  17\n",
      "eigvec >> [ 3.53553391e+00 -3.53553391e+00  4.63409500e-12] \n",
      "eigval >> 2.147483648e-23\n",
      "\n",
      "Iteration:  18\n",
      "eigvec >> [3.53553391e+00 3.53553391e+00 9.26819000e-13] \n",
      "eigval >> 8.589934592000001e-25\n",
      "\n",
      "Iteration:  19\n",
      "eigvec >> [ 3.53553391e+00 -3.53553391e+00  1.85363800e-13] \n",
      "eigval >> 3.435973836800001e-26\n",
      "\n",
      "Iteration:  20\n",
      "eigvec >> [3.53553391e+00 3.53553391e+00 3.70727600e-14] \n",
      "eigval >> 1.3743895347200005e-27\n",
      "\n"
     ]
    }
   ],
   "source": [
    "v = np.ones(A.shape[0])\n",
    "v = v/np.sqrt(v.T @ v) # normalized v0 also at start\n",
    "\n",
    "eigval_v = 0\n",
    "\n",
    "iterations = 20\n",
    "\n",
    "for i in range(iterations):\n",
    "    v = (A @ v)/np.sqrt(v.T @ v)\n",
    "    eigval_v = (v.T @ A) @ v\n",
    "    print(\"Iteration: \", i+1)\n",
    "    print(\"eigvec >>\", v, \"\\neigval >>\", eigval_v) \n",
    "    print()"
   ]
  },
  {
   "cell_type": "code",
   "execution_count": 26,
   "metadata": {},
   "outputs": [
    {
     "data": {
      "text/plain": [
       "EigResult(eigenvalues=array([ 5., -5.,  1.]), eigenvectors=array([[1., 0., 0.],\n",
       "       [0., 1., 0.],\n",
       "       [0., 0., 1.]]))"
      ]
     },
     "execution_count": 26,
     "metadata": {},
     "output_type": "execute_result"
    }
   ],
   "source": [
    "np.linalg.eig(A)"
   ]
  }
 ],
 "metadata": {
  "kernelspec": {
   "display_name": "venv",
   "language": "python",
   "name": "python3"
  },
  "language_info": {
   "codemirror_mode": {
    "name": "ipython",
    "version": 3
   },
   "file_extension": ".py",
   "mimetype": "text/x-python",
   "name": "python",
   "nbconvert_exporter": "python",
   "pygments_lexer": "ipython3",
   "version": "3.13.2"
  }
 },
 "nbformat": 4,
 "nbformat_minor": 2
}
