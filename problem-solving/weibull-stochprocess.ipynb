{
 "cells": [
  {
   "cell_type": "markdown",
   "metadata": {},
   "source": [
    "## **Simulating a distribution (Weibull) as a Stochastic Process**"
   ]
  },
  {
   "cell_type": "code",
   "execution_count": null,
   "metadata": {},
   "outputs": [
    {
     "name": "stdout",
     "output_type": "stream",
     "text": [
      "7384.292076257857\n"
     ]
    }
   ],
   "source": [
    "import numpy as np\n",
    "import matplotlib.pyplot as plt\n",
    "\n",
    "def stochastic_process_weibull(num_trials, alpha, lambda_):\n",
    "    num_hours = 24\n",
    "    results = np.zeros((num_trials,1))\n",
    "    \n",
    "    for i in range(num_trials):\n",
    "        # Repeat stochastic process\n",
    "        # Sampling from weibull using ITF\n",
    "        sample = np.random.uniform(0,1,num_hours)\n",
    "        wind_speed = lambda_*((-np.log(1-sample))**(1/alpha)) # ITF of exponential\n",
    "        power_all_hours = np.zeros((24))\n",
    "        for j, hour in enumerate(wind_speed):\n",
    "            if wind_speed[j] < 3:\n",
    "                continue\n",
    "            elif wind_speed[j] >= 3 and wind_speed[j] < 12:\n",
    "                power_all_hours[j] = (2/9)*wind_speed[j] + 3\n",
    "            elif wind_speed[j] >= 12 and wind_speed[j] < 25:\n",
    "                power_all_hours[j] = 2\n",
    "            else:\n",
    "                continue\n",
    "        results[i] = np.sum(power_all_hours) # appending to the results\n",
    "\n",
    "        # the power, derived from speed, derived from Weibull\n",
    "\n",
    "    output = np.mean(results*200) # for 200 wind turbines\n",
    "    return output\n",
    "\n",
    "print(stochastic_process_weibull(1000, 2, 8))"
   ]
  },
  {
   "cell_type": "code",
   "execution_count": null,
   "metadata": {},
   "outputs": [],
   "source": [
    "# Error with 95% probability\n",
    "# 1.96 * S/sqrt(N)"
   ]
  }
 ],
 "metadata": {
  "kernelspec": {
   "display_name": ".venv",
   "language": "python",
   "name": "python3"
  },
  "language_info": {
   "codemirror_mode": {
    "name": "ipython",
    "version": 3
   },
   "file_extension": ".py",
   "mimetype": "text/x-python",
   "name": "python",
   "nbconvert_exporter": "python",
   "pygments_lexer": "ipython3",
   "version": "3.13.1"
  }
 },
 "nbformat": 4,
 "nbformat_minor": 2
}
